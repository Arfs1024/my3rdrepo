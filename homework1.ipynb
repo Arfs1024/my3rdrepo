{
 "cells": [
  {
   "cell_type": "code",
   "execution_count": 2,
   "id": "4c6abc1b",
   "metadata": {},
   "outputs": [
    {
     "name": "stdout",
     "output_type": "stream",
     "text": [
      "fuckoff\n"
     ]
    }
   ],
   "source": [
    "print(\"fuckoff\")"
   ]
  },
  {
   "cell_type": "code",
   "execution_count": 4,
   "id": "39ab71ef",
   "metadata": {},
   "outputs": [
    {
     "name": "stdout",
     "output_type": "stream",
     "text": [
      "10+5\n"
     ]
    }
   ],
   "source": [
    "x=10\n",
    "y=5\n",
    "print(\"10+5\")"
   ]
  },
  {
   "cell_type": "code",
   "execution_count": 5,
   "id": "6af07b3b",
   "metadata": {},
   "outputs": [
    {
     "name": "stdout",
     "output_type": "stream",
     "text": [
      "10\n",
      "76\n"
     ]
    }
   ],
   "source": [
    "x=10\n",
    "y=76\n",
    "print(x)\n",
    "print(y)"
   ]
  },
  {
   "cell_type": "code",
   "execution_count": 7,
   "id": "cc5f3229",
   "metadata": {},
   "outputs": [
    {
     "name": "stdout",
     "output_type": "stream",
     "text": [
      "why so weird\n"
     ]
    }
   ],
   "source": [
    "print(\"why so weird\")"
   ]
  },
  {
   "cell_type": "code",
   "execution_count": 8,
   "id": "f7568f34",
   "metadata": {},
   "outputs": [
    {
     "name": "stdout",
     "output_type": "stream",
     "text": [
      "the value of x & y are 10 & 76 respectively\n"
     ]
    }
   ],
   "source": [
    "print(\"the value of x & y are\" ,x, \"&\" ,y, \"respectively\")"
   ]
  },
  {
   "cell_type": "code",
   "execution_count": 21,
   "id": "878f96fa",
   "metadata": {},
   "outputs": [
    {
     "name": "stdout",
     "output_type": "stream",
     "text": [
      "multiply of x & y = 760\n"
     ]
    }
   ],
   "source": [
    "print (\"multiply of x & y =\", x*y)"
   ]
  },
  {
   "cell_type": "code",
   "execution_count": 16,
   "id": "3f941faa",
   "metadata": {},
   "outputs": [
    {
     "data": {
      "text/plain": [
       "('multiply of x & y =', 760)"
      ]
     },
     "execution_count": 16,
     "metadata": {},
     "output_type": "execute_result"
    }
   ],
   "source": []
  },
  {
   "cell_type": "code",
   "execution_count": 22,
   "id": "e2b09833",
   "metadata": {},
   "outputs": [
    {
     "name": "stdout",
     "output_type": "stream",
     "text": [
      "subtraction of x & y = -66\n"
     ]
    }
   ],
   "source": [
    "print(\"subtraction of x & y =\", x-y)"
   ]
  },
  {
   "cell_type": "code",
   "execution_count": 23,
   "id": "b58ff6eb",
   "metadata": {},
   "outputs": [
    {
     "name": "stdout",
     "output_type": "stream",
     "text": [
      "addition of x & y = 86\n"
     ]
    }
   ],
   "source": [
    "print(\"addition of x & y =\", x+y)"
   ]
  },
  {
   "cell_type": "code",
   "execution_count": 25,
   "id": "b200b1a8",
   "metadata": {},
   "outputs": [
    {
     "name": "stdout",
     "output_type": "stream",
     "text": [
      "30\n"
     ]
    }
   ],
   "source": [
    "z=30 \n",
    "print(z)"
   ]
  },
  {
   "cell_type": "code",
   "execution_count": 26,
   "id": "17bc4bf5",
   "metadata": {},
   "outputs": [
    {
     "name": "stdout",
     "output_type": "stream",
     "text": [
      "the value of x , y , & z are 10 & 76 respectively\n"
     ]
    }
   ],
   "source": [
    "print(\"the value of x , y , & z are\" ,x, \"&\" ,y, \"respectively\")"
   ]
  },
  {
   "cell_type": "code",
   "execution_count": 27,
   "id": "beffd349",
   "metadata": {},
   "outputs": [
    {
     "name": "stdout",
     "output_type": "stream",
     "text": [
      "multiply of y & z = 2280\n"
     ]
    }
   ],
   "source": [
    "print(\"multiply of y & z =\", y*z)"
   ]
  },
  {
   "cell_type": "code",
   "execution_count": 28,
   "id": "5e236272",
   "metadata": {},
   "outputs": [
    {
     "name": "stdout",
     "output_type": "stream",
     "text": [
      "multiply of x, y & z = 22800\n"
     ]
    }
   ],
   "source": [
    "print(\"multiply of x, y & z =\", x*y*z)"
   ]
  },
  {
   "cell_type": "code",
   "execution_count": 29,
   "id": "604b0e24",
   "metadata": {},
   "outputs": [
    {
     "name": "stdout",
     "output_type": "stream",
     "text": [
      "addition of x, y & z= 116\n"
     ]
    }
   ],
   "source": [
    "print(\"addition of x, y & z=\", x+y+z)"
   ]
  },
  {
   "cell_type": "code",
   "execution_count": 30,
   "id": "2335db8f",
   "metadata": {},
   "outputs": [
    {
     "name": "stdout",
     "output_type": "stream",
     "text": [
      "subtraction of x, y &z= -96\n"
     ]
    }
   ],
   "source": [
    "print(\"subtraction of x, y &z=\", x-y-z)"
   ]
  }
 ],
 "metadata": {
  "kernelspec": {
   "display_name": "Python 3 (ipykernel)",
   "language": "python",
   "name": "python3"
  },
  "language_info": {
   "codemirror_mode": {
    "name": "ipython",
    "version": 3
   },
   "file_extension": ".py",
   "mimetype": "text/x-python",
   "name": "python",
   "nbconvert_exporter": "python",
   "pygments_lexer": "ipython3",
   "version": "3.9.12"
  }
 },
 "nbformat": 4,
 "nbformat_minor": 5
}
